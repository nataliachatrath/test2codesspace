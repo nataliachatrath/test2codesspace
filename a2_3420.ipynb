{
  "nbformat": 4,
  "nbformat_minor": 0,
  "metadata": {
    "colab": {
      "provenance": []
    },
    "kernelspec": {
      "name": "python3",
      "display_name": "Python 3"
    },
    "language_info": {
      "name": "python"
    }
  },
  "cells": [
    {
      "cell_type": "markdown",
      "source": [
        "**ASSIGNMENT 2_____COMP3420**\n",
        "\n",
        "\n",
        "<u>Dataset Name:</u>\n",
        "\n",
        "\n",
        "\n",
        "<u>Dataset Explanation:</u>\n",
        "\n",
        "\n",
        "\n",
        "<u>Dataset Goal:</u>\n",
        "\n",
        "\n"
      ],
      "metadata": {
        "id": "n2NO368gxWzf"
      }
    },
    {
      "cell_type": "markdown",
      "source": [
        "** TASK 1**\n",
        "\n",
        "<u>Aim:</u>\n",
        "Data exploration and explanation"
      ],
      "metadata": {
        "id": "C2CsI0bj4AkE"
      }
    },
    {
      "cell_type": "code",
      "execution_count": null,
      "metadata": {
        "id": "8Pwk23v9wbgC"
      },
      "outputs": [],
      "source": [
        "# 1.1\n",
        "\n"
      ]
    },
    {
      "cell_type": "markdown",
      "source": [
        "** TASK 2**\n",
        "\n",
        "<u>Aim:</u>\n",
        "\n"
      ],
      "metadata": {
        "id": "w4nvlbhW4FCv"
      }
    },
    {
      "cell_type": "code",
      "source": [],
      "metadata": {
        "id": "avVyLSAT4TLp"
      },
      "execution_count": null,
      "outputs": []
    },
    {
      "cell_type": "markdown",
      "source": [
        "** TASK 3**\n",
        "\n",
        "<u>Aim:</u>"
      ],
      "metadata": {
        "id": "tZreaq614L5U"
      }
    },
    {
      "cell_type": "code",
      "source": [],
      "metadata": {
        "id": "lJuN9gDb4Ts0"
      },
      "execution_count": null,
      "outputs": []
    }
  ]
}